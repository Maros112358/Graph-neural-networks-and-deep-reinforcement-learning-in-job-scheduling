{
 "cells": [
  {
   "cell_type": "markdown",
   "id": "ae5ff412",
   "metadata": {},
   "source": [
    "# Showcase of fjsp-drl\n",
    "\n",
    "This model requires python 3.6 and package versions in `requirements.txt`.\n",
    "This model solves FJSP instances, which are a generalisation of JSSP."
   ]
  },
  {
   "cell_type": "markdown",
   "id": "5b77b2ad",
   "metadata": {},
   "source": [
    "# JSSP TO FJSP\n",
    "First I need to convert JSSP to FJSP instance. Below is an example of JSSP instance in [Taillard's specification](http://jobshop.jjvh.nl/explanation.php)"
   ]
  },
  {
   "cell_type": "markdown",
   "id": "764dff9e",
   "metadata": {},
   "source": [
    "```\n",
    "6\t6\n",
    "1\t3\t6\t7\t3\t6\n",
    "8\t5\t10\t10\t10\t4\n",
    "5\t4\t8\t9\t1\t7\n",
    "5\t5\t5\t3\t8\t9\n",
    "9\t3\t5\t4\t3\t1\n",
    "3\t3\t9\t10\t4\t1\n",
    "3\t1\t2\t4\t6\t5\n",
    "2\t3\t5\t6\t1\t4\n",
    "3\t4\t6\t1\t2\t5\n",
    "2\t1\t3\t4\t5\t6\n",
    "3\t2\t5\t6\t1\t4\n",
    "2\t4\t6\t1\t5\t3\n",
    "```"
   ]
  },
  {
   "cell_type": "markdown",
   "id": "4acaa30d",
   "metadata": {},
   "source": [
    "Below is the same problem as [FJSP](https://github.com/Maros112358/Graph-neural-networks-and-deep-reinforcement-learning-in-job-scheduling/tree/main/models/fjsp-drl)"
   ]
  },
  {
   "cell_type": "markdown",
   "id": "727e3adf",
   "metadata": {},
   "source": [
    "```\n",
    "6   6   1   \n",
    "6   1   3   1   1   1   3   1   2   6   1   4   7   1   6   3   1   5   6   \n",
    "6   1   2   8   1   3   5   1   5   10  1   6   10  1   1   10  1   4   4   \n",
    "6   1   3   5   1   4   4   1   6   8   1   1   9   1   2   1   1   5   7   \n",
    "6   1   2   5   1   1   5   1   3   5   1   4   3   1   5   8   1   6   9   \n",
    "6   1   3   9   1   2   3   1   5   5   1   6   4   1   1   3   1   4   1   \n",
    "6   1   2   3   1   4   3   1   6   9   1   1   10  1   5   4   1   3   1   \n",
    "```"
   ]
  },
  {
   "cell_type": "markdown",
   "id": "82fada63",
   "metadata": {},
   "source": [
    "Function to convert JSSP to FJSP:"
   ]
  },
  {
   "cell_type": "code",
   "execution_count": null,
   "id": "67d578c3",
   "metadata": {},
   "outputs": [],
   "source": [
    "def jssp_taillard_to_fjsp(filename: str) -> str:\n",
    "    '''Transforms JSSP instance in Taillard's specification \n",
    "    \n",
    "    '''\n",
    "    "
   ]
  }
 ],
 "metadata": {
  "kernelspec": {
   "display_name": "Python 3 (ipykernel)",
   "language": "python",
   "name": "python3"
  },
  "language_info": {
   "codemirror_mode": {
    "name": "ipython",
    "version": 3
   },
   "file_extension": ".py",
   "mimetype": "text/x-python",
   "name": "python",
   "nbconvert_exporter": "python",
   "pygments_lexer": "ipython3",
   "version": "3.6.15"
  }
 },
 "nbformat": 4,
 "nbformat_minor": 5
}

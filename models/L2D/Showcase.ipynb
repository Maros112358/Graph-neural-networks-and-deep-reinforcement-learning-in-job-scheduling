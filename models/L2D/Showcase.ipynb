{
 "cells": [
  {
   "cell_type": "markdown",
   "id": "666d538e-30f1-490f-a3a9-f35884777192",
   "metadata": {},
   "source": [
    "# L2D Showcase\n",
    "\n",
    "The following code is a modified version of [test_learned_on_benchmark.py](l2d/test_learned_on_benchmark.py)"
   ]
  },
  {
   "cell_type": "code",
   "execution_count": null,
   "id": "02484b1a-6040-4e2e-940f-93415a13dd53",
   "metadata": {},
   "outputs": [],
   "source": []
  }
 ],
 "metadata": {
  "kernelspec": {
   "display_name": "Python 3 (ipykernel)",
   "language": "python",
   "name": "python3"
  },
  "language_info": {
   "codemirror_mode": {
    "name": "ipython",
    "version": 3
   },
   "file_extension": ".py",
   "mimetype": "text/x-python",
   "name": "python",
   "nbconvert_exporter": "python",
   "pygments_lexer": "ipython3",
   "version": "3.11.5"
  }
 },
 "nbformat": 4,
 "nbformat_minor": 5
}
